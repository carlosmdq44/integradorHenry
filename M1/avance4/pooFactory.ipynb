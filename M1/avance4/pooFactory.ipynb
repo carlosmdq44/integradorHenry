{
 "cells": [
  {
   "cell_type": "code",
   "id": "initial_id",
   "metadata": {
    "collapsed": true,
    "ExecuteTime": {
     "end_time": "2025-06-11T14:18:34.710024Z",
     "start_time": "2025-06-11T14:17:55.881222Z"
    }
   },
   "source": [
    "import pandas as pd\n",
    "from sales_analysis import AnalysisFactory, profile_strategy\n",
    "\n",
    "# Cargar el dataset principal\n",
    "df = pd.read_csv(\"../../data/sales.csv\", parse_dates=[\"SalesDate\"])\n",
    "\n",
    "# Asegurar que SalesDate sea datetime\n",
    "df[\"SalesDate\"] = pd.to_datetime(df[\"SalesDate\"])\n",
    "\n",
    "# Verificar y construir la columna TotalPriceCalculated si no existe\n",
    "if \"TotalPriceCalculated\" not in df.columns:\n",
    "    if \"Price\" not in df.columns:\n",
    "        # Cargar precios desde products\n",
    "        products = pd.read_csv(\"../../data/products.csv\")\n",
    "        df = df.merge(products[[\"ProductID\", \"Price\"]], on=\"ProductID\", how=\"left\")\n",
    "\n",
    "    df[\"TotalPriceCalculated\"] = (df[\"Quantity\"] * df[\"Price\"]) * (1 - df[\"Discount\"])\n",
    "\n",
    "# Mostrar tipos de datos para confirmación\n",
    "print(\"Tipos de columnas:\\n\", df.dtypes)\n",
    "print(\"\\nPrimeras filas:\\n\", df[[\"SalesDate\", \"TotalPriceCalculated\"]].head())\n",
    "\n",
    "# Aplicar la estrategia optimizada (vectorizada)\n",
    "strategy = AnalysisFactory.get_strategy(\"top5_vectorized\")\n",
    "resultado = strategy.analyze(df)\n",
    "\n",
    "print(\"\\nResultado estrategia vectorizada:\")\n",
    "print(resultado)\n",
    "\n",
    "# Comparar tiempos de ejecución\n",
    "print(\"\\nComparación de tiempos:\")\n",
    "for nombre in [\"top5_brute\", \"top5_vectorized\"]:\n",
    "    strat = AnalysisFactory.get_strategy(nombre)\n",
    "    tiempo = profile_strategy(strat, df, repeat=3)\n",
    "    print(f\"{nombre}: {tiempo:.4f} segundos\")\n",
    "\n"
   ],
   "outputs": [
    {
     "name": "stdout",
     "output_type": "stream",
     "text": [
      "Tipos de columnas:\n",
      " SalesID                          int64\n",
      "SalesPersonID                    int64\n",
      "CustomerID                       int64\n",
      "ProductID                        int64\n",
      "Quantity                         int64\n",
      "Discount                       float64\n",
      "TotalPrice                     float64\n",
      "SalesDate               datetime64[ns]\n",
      "TransactionNumber               object\n",
      "Price                          float64\n",
      "TotalPriceCalculated           float64\n",
      "dtype: object\n",
      "\n",
      "Primeras filas:\n",
      "                 SalesDate  TotalPriceCalculated\n",
      "0 2018-02-05 07:38:25.430             309.63590\n",
      "1 2018-02-02 16:03:31.150             437.82200\n",
      "2 2018-05-03 19:31:56.880            1896.44160\n",
      "3 2018-04-07 14:43:55.420            1236.01384\n",
      "4 2018-02-12 15:37:03.940             719.80200\n",
      "\n",
      "Resultado estrategia vectorizada:\n",
      "    StartDate     EndDate    TotalSales      Method\n",
      "0  2018-03-28  2018-04-01  1.666125e+08  vectorized\n",
      "\n",
      "Comparación de tiempos:\n",
      "top5_brute: 2.6010 segundos\n",
      "top5_vectorized: 2.7489 segundos\n"
     ]
    }
   ],
   "execution_count": 6
  }
 ],
 "metadata": {
  "kernelspec": {
   "display_name": "Python 3",
   "language": "python",
   "name": "python3"
  },
  "language_info": {
   "codemirror_mode": {
    "name": "ipython",
    "version": 2
   },
   "file_extension": ".py",
   "mimetype": "text/x-python",
   "name": "python",
   "nbconvert_exporter": "python",
   "pygments_lexer": "ipython2",
   "version": "2.7.6"
  }
 },
 "nbformat": 4,
 "nbformat_minor": 5
}
